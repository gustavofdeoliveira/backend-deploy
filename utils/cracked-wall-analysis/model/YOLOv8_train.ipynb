{
  "cells": [
    {
      "cell_type": "markdown",
      "metadata": {
        "colab_type": "text",
        "id": "view-in-github"
      },
      "source": [
        "<a href=\"https://colab.research.google.com/github/Lemos1347/Cracked-wall-analysis-YOLOv8/blob/main/YOLOv8_train.ipynb\" target=\"_parent\"><img src=\"https://colab.research.google.com/assets/colab-badge.svg\" alt=\"Open In Colab\"/></a>"
      ]
    },
    {
      "attachments": {},
      "cell_type": "markdown",
      "metadata": {},
      "source": [
        "# Esse notebook tem como objetivo demonstrar como o modelo foi treinado"
      ]
    },
    {
      "cell_type": "code",
      "execution_count": null,
      "metadata": {
        "id": "8Wo-VwaQVCbM"
      },
      "outputs": [],
      "source": [
        "# Instalando YOLOv8\n",
        "!pip install ultralytics  "
      ]
    },
    {
      "cell_type": "code",
      "execution_count": null,
      "metadata": {
        "id": "mvg-nTdRVOYm"
      },
      "outputs": [],
      "source": [
        "# Importando os dados de https://universe.roboflow.com/university-bswxt/crack-bphdr/dataset/2\n",
        "!pip install roboflow\n",
        "\n",
        "from roboflow import Roboflow\n",
        "rf = Roboflow(api_key=YOUR_API_KEY)\n",
        "project = rf.workspace(\"university-bswxt\").project(\"crack-bphdr\")\n",
        "dataset = project.version(2).download(\"yolov8\")\n",
        "\n",
        "# Após baixar os dados, lembre de mudar em /content/crack-2/data.yaml os paths de 'test', 'train', 'val'"
      ]
    },
    {
      "cell_type": "code",
      "execution_count": null,
      "metadata": {
        "id": "SzhHsrpEVUtl"
      },
      "outputs": [],
      "source": [
        "# Treinando o modelo\n",
        "!yolo train data=/content/crack-2/data.yaml model=yolov8n.pt epochs=10 lr0=0.01    "
      ]
    }
  ],
  "metadata": {
    "accelerator": "GPU",
    "colab": {
      "authorship_tag": "ABX9TyOcE59Rka5YuPZoKD9/Yrja",
      "gpuType": "T4",
      "include_colab_link": true,
      "provenance": []
    },
    "gpuClass": "standard",
    "kernelspec": {
      "display_name": "Python 3",
      "name": "python3"
    },
    "language_info": {
      "name": "python"
    }
  },
  "nbformat": 4,
  "nbformat_minor": 0
}
